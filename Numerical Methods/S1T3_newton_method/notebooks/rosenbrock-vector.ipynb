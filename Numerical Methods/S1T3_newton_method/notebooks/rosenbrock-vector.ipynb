{
 "cells": [
  {
   "cell_type": "code",
   "execution_count": 1,
   "metadata": {},
   "outputs": [],
   "source": [
    "import numpy as np\n",
    "%matplotlib notebook\n",
    "import matplotlib.pyplot as plt\n",
    "\n",
    "import sympy as sp\n",
    "from sympy.abc import x, y\n",
    "from sympy.utilities.lambdify import lambdify\n",
    "from sympy.vector import gradient"
   ]
  },
  {
   "cell_type": "markdown",
   "metadata": {},
   "source": [
    "# Функция Розенброка\n",
    "Оптимизируем функцию Розенброка (https://ru.wikipedia.org/wiki/Функция_Розенброка) в _векторном_ виде. Сразу же найдём якобиан."
   ]
  },
  {
   "cell_type": "code",
   "execution_count": 2,
   "metadata": {},
   "outputs": [
    {
     "data": {
      "text/latex": [
       "$\\displaystyle \\left[\\begin{matrix}1 - x\\\\- 10 x^{2} + 10 y\\end{matrix}\\right]$"
      ],
      "text/plain": [
       "Matrix([\n",
       "[          1 - x],\n",
       "[-10*x**2 + 10*y]])"
      ]
     },
     "execution_count": 2,
     "metadata": {},
     "output_type": "execute_result"
    }
   ],
   "source": [
    "N = 10\n",
    "\n",
    "F = sp.Matrix([1 - x, \n",
    "               N*(y - x**2)])\n",
    "J = F.jacobian([x, y])\n",
    "F"
   ]
  },
  {
   "cell_type": "markdown",
   "metadata": {},
   "source": [
    "Найдём шаг метода Ньютона в общем виде."
   ]
  },
  {
   "cell_type": "code",
   "execution_count": 3,
   "metadata": {},
   "outputs": [
    {
     "data": {
      "text/latex": [
       "$\\displaystyle \\left[\\begin{matrix}1 - x\\\\- x^{2} + 2 x - y\\end{matrix}\\right]$"
      ],
      "text/plain": [
       "Matrix([\n",
       "[          1 - x],\n",
       "[-x**2 + 2*x - y]])"
      ]
     },
     "execution_count": 3,
     "metadata": {},
     "output_type": "execute_result"
    }
   ],
   "source": [
    "dX = sp.simplify(-J**-1 * F)\n",
    "sp.simplify(dX)"
   ]
  },
  {
   "cell_type": "markdown",
   "metadata": {},
   "source": [
    "Убедимся, что задача решается за два шага при _любых_ начальных условиях (x0, y0)."
   ]
  },
  {
   "cell_type": "code",
   "execution_count": 4,
   "metadata": {},
   "outputs": [
    {
     "data": {
      "text/latex": [
       "$\\displaystyle \\left[\\begin{matrix}1\\\\1\\end{matrix}\\right]$"
      ],
      "text/plain": [
       "Matrix([\n",
       "[1],\n",
       "[1]])"
      ]
     },
     "execution_count": 4,
     "metadata": {},
     "output_type": "execute_result"
    }
   ],
   "source": [
    "X0 = sp.Matrix([sp.Symbol('x0'),\n",
    "                sp.Symbol('y0')])\n",
    "X1 = X0 + dX.subs({x: X0[0], y: X0[1]})\n",
    "X2 = X1 + dX.subs({x: X1[0], y: X1[1]})\n",
    "X2"
   ]
  },
  {
   "cell_type": "code",
   "execution_count": 5,
   "metadata": {},
   "outputs": [
    {
     "data": {
      "text/plain": [
       "(Matrix([[1 - x0, -10*x0**2 + 10*y0]]),\n",
       " Matrix([[0, -10*x0**2 + 20*x0 - 10]]),\n",
       " Matrix([[0, 0]]))"
      ]
     },
     "execution_count": 5,
     "metadata": {},
     "output_type": "execute_result"
    }
   ],
   "source": [
    "F.subs({x: X0[0], y: X0[1]}).T, F.subs({x: X1[0], y: X1[1]}).T, F.subs({x: X2[0], y: X2[1]}).T"
   ]
  }
 ],
 "metadata": {
  "kernelspec": {
   "display_name": "Python 3",
   "language": "python",
   "name": "python3"
  },
  "language_info": {
   "codemirror_mode": {
    "name": "ipython",
    "version": 3
   },
   "file_extension": ".py",
   "mimetype": "text/x-python",
   "name": "python",
   "nbconvert_exporter": "python",
   "pygments_lexer": "ipython3",
   "version": "3.7.6"
  }
 },
 "nbformat": 4,
 "nbformat_minor": 2
}
