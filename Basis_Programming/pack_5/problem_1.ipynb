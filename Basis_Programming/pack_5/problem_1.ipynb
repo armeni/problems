{
 "cells": [
  {
   "cell_type": "markdown",
   "metadata": {},
   "source": [
    "Первый круг всегда будет длиться Т1+Т2+Т3. Если T1>T3, то каждый из остальных кругов будет длиться Т1+Т2, иначе Т3+Т2. Т.е. среднее время одного круга будет вычисляться по формуле: T=(Т1+Т2+Т3+(max(Т1,T3)+Т2) * (s-1))/s, где s - количество кругов."
   ]
  },
  {
   "cell_type": "code",
   "execution_count": 1,
   "metadata": {},
   "outputs": [
    {
     "name": "stdout",
     "output_type": "stream",
     "text": [
      "Введите Т1, Т2, Т3: \n",
      "5 10 15\n",
      "Введите количество кругов: 500\n",
      "Cреднее время одного круга:  25.01\n"
     ]
    }
   ],
   "source": [
    "print('Введите Т1, Т2, Т3: ')\n",
    "s = input().split()\n",
    "t1, t2, t3 = int(s[0]), int(s[1]), int(s[2])\n",
    "s = int(input('Введите количество кругов: '))\n",
    "x = []\n",
    "y = []\n",
    "n = []\n",
    "n.append(t1 + t2 + t3)\n",
    "t = 0\n",
    "tm1 = 0 \n",
    "tm2 = 0\n",
    "p = 0\n",
    "f = False\n",
    "for i in range(s):\n",
    "    if f:  \n",
    "        tm2 += t3\n",
    "        p += max(tm2 - tm1, tm1)\n",
    "        x.append(i)\n",
    "        y.append(p / i)\n",
    "        n.append(t2 + max(t1, t3))        \n",
    "        tm2 = t2 + max(t1, t3)\n",
    "        tm1 = t2 + max(t1, t3)\n",
    "        t += t2 + max(t1, t3)\n",
    "    else:\n",
    "        f = True\n",
    "        tm2 = t1 + t2\n",
    "        t += t1 + t2\n",
    "tm2 += t3\n",
    "x.append(s)\n",
    "n.append(t2 + max(t1, t3))\n",
    "y.append((t + t3)  / s)\n",
    "print('Cреднее время одного круга: ', (t + t3)  / s)"
   ]
  },
  {
   "cell_type": "code",
   "execution_count": 2,
   "metadata": {},
   "outputs": [
    {
     "data": {
      "text/plain": [
       "[<matplotlib.lines.Line2D at 0x7f82b4096390>]"
      ]
     },
     "execution_count": 2,
     "metadata": {},
     "output_type": "execute_result"
    },
    {
     "data": {
      "image/png": "[encoded data removed]",
      "text/plain": [
       "<matplotlib.figure.Figure at 0x7f82b4096320>"
      ]
     },
     "metadata": {},
     "output_type": "display_data"
    }
   ],
   "source": [
    "import matplotlib.pyplot as plt\n",
    "import numpy as np\n",
    "%matplotlib inline\n",
    "plt.title('Зависимость среднего времени одного круга от их количества: ')\n",
    "plt.plot(x, y, color = 'red')"
   ]
  },
  {
   "cell_type": "markdown",
   "metadata": {},
   "source": [
    "Как видим, формула действительно верна. Причём при s->inf, T->(max(Т1,T3)+Т2)."
   ]
  }
 ],
 "metadata": {
  "kernelspec": {
   "display_name": "Python 3",
   "language": "python",
   "name": "python3"
  },
  "language_info": {
   "codemirror_mode": {
    "name": "ipython",
    "version": 3
   },
   "file_extension": ".py",
   "mimetype": "text/x-python",
   "name": "python",
   "nbconvert_exporter": "python",
   "pygments_lexer": "ipython3",
   "version": "3.5.2"
  }
 },
 "nbformat": 4,
 "nbformat_minor": 2
}
