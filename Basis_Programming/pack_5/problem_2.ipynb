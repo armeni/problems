{
 "cells": [
  {
   "cell_type": "markdown",
   "metadata": {},
   "source": [
    "Чтобы Иннокентий встретил Константина за шайбой необоходимо и достаточно Клавдии не встретить баг, а Константину встретить. Вероятность этого равна (0.89^5) * 0.11 = 0.06..."
   ]
  },
  {
   "cell_type": "code",
   "execution_count": 1,
   "metadata": {},
   "outputs": [
    {
     "name": "stdout",
     "output_type": "stream",
     "text": [
      "Введите количество итераций: \n",
      "10000\n",
      "Вероятность встречи Иннокентия с Константином:  0.0581\n"
     ]
    }
   ],
   "source": [
    "import random\n",
    "random.seed()\n",
    "t = 0\n",
    "x = []\n",
    "y = []\n",
    "n = []\n",
    "print(\"Введите количество итераций: \")\n",
    "s = int(input())\n",
    "for i in range(s):\n",
    "    p = False\n",
    "    for j in range(5):\n",
    "        k = random.randint(1, 100)\n",
    "        if k <= 11:\n",
    "            p = True\n",
    "            break\n",
    "    if not p:   \n",
    "        k = random.randint(1, 100)\n",
    "        if k <= 11:\n",
    "            p = True\n",
    "            t += 1\n",
    "            continue\n",
    "    else: \n",
    "        y.append(t / (i+1))\n",
    "        x.append(i)\n",
    "        n.append(((0.89)**5)*0.11)\n",
    "        continue\n",
    "    y.append(t / (i+1))\n",
    "    x.append(i)\n",
    "    n.append(((0.89)**5)*0.11)\n",
    "print(\"Вероятность встречи Иннокентия с Константином: \", t / s)"
   ]
  },
  {
   "cell_type": "code",
   "execution_count": 2,
   "metadata": {},
   "outputs": [
    {
     "data": {
      "text/plain": [
       "[<matplotlib.lines.Line2D at 0x7fb5f6e3c4e0>]"
      ]
     },
     "execution_count": 2,
     "metadata": {},
     "output_type": "execute_result"
    },
    {
     "data": {
      "image/png": "[encoded data removed]",
      "text/plain": [
       "<matplotlib.figure.Figure at 0x7fb618533fd0>"
      ]
     },
     "metadata": {},
     "output_type": "display_data"
    }
   ],
   "source": [
    "import matplotlib.pyplot as plt\n",
    "import numpy as np\n",
    "%matplotlib inline\n",
    "plt.title(\"Зависимость вероятности интересной встречи от количества итераций: \")\n",
    "plt.plot(x, y, color = 'red')\n",
    "plt.plot(x, n, color  = 'blue')"
   ]
  },
  {
   "cell_type": "markdown",
   "metadata": {},
   "source": [
    "Таким образом, с увеличением количества итераций искомая вероятность приближается к полученному значению 0.06..."
   ]
  }
 ],
 "metadata": {
  "kernelspec": {
   "display_name": "Python 3",
   "language": "python",
   "name": "python3"
  },
  "language_info": {
   "codemirror_mode": {
    "name": "ipython",
    "version": 3
   },
   "file_extension": ".py",
   "mimetype": "text/x-python",
   "name": "python",
   "nbconvert_exporter": "python",
   "pygments_lexer": "ipython3",
   "version": "3.5.2"
  }
 },
 "nbformat": 4,
 "nbformat_minor": 2
}
